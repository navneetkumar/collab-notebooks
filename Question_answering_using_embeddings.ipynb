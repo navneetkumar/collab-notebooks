{
  "cells": [
    {
      "cell_type": "markdown",
      "metadata": {
        "id": "view-in-github",
        "colab_type": "text"
      },
      "source": [
        "<a href=\"https://colab.research.google.com/github/navneetkumar/collab-notebooks/blob/main/Question_answering_using_embeddings.ipynb\" target=\"_parent\"><img src=\"https://colab.research.google.com/assets/colab-badge.svg\" alt=\"Open In Colab\"/></a>"
      ]
    },
    {
      "cell_type": "markdown",
      "id": "c4ca8276-e829-4cff-8905-47534e4b4d4e",
      "metadata": {
        "id": "c4ca8276-e829-4cff-8905-47534e4b4d4e"
      },
      "source": [
        "# Question Answering using Embeddings\n",
        "\n",
        "Many use cases require GPT-3 to respond to user questions with insightful answers. For example, a customer support chatbot may need to provide answers to common questions. The GPT models have picked up a lot of general knowledge in training, but we often need to ingest and use a large library of more specific information.\n",
        "\n",
        "In this notebook we will demonstrate a method for enabling GPT-3 to answer questions using a library of text as a reference, by using document embeddings and retrieval. We'll be using a dataset of Wikipedia articles about the 2020 Summer Olympic Games. Please see [this notebook](fine-tuned_qa/olympics-1-collect-data.ipynb) to follow the data gathering process."
      ]
    },
    {
      "cell_type": "code",
      "source": [
        "from getpass import getpass\n",
        "openai_api_key = getpass(\"OpenAI API Key \")"
      ],
      "metadata": {
        "id": "9FBwaMR6Cr5G",
        "outputId": "b98161a1-715c-4b06-cd8c-c3b9b8de9a70",
        "colab": {
          "base_uri": "https://localhost:8080/"
        }
      },
      "id": "9FBwaMR6Cr5G",
      "execution_count": 25,
      "outputs": [
        {
          "name": "stdout",
          "output_type": "stream",
          "text": [
            "OpenAI API Key ··········\n"
          ]
        }
      ]
    },
    {
      "cell_type": "code",
      "source": [
        "!pip install numpy openai pandas tiktoken"
      ],
      "metadata": {
        "id": "zWpA33mfuuyN",
        "outputId": "3b53131b-a951-40f2-faaf-64a212543783",
        "colab": {
          "base_uri": "https://localhost:8080/"
        }
      },
      "id": "zWpA33mfuuyN",
      "execution_count": 26,
      "outputs": [
        {
          "output_type": "stream",
          "name": "stdout",
          "text": [
            "Looking in indexes: https://pypi.org/simple, https://us-python.pkg.dev/colab-wheels/public/simple/\n",
            "Requirement already satisfied: numpy in /usr/local/lib/python3.8/dist-packages (1.22.4)\n",
            "Requirement already satisfied: openai in /usr/local/lib/python3.8/dist-packages (0.27.0)\n",
            "Requirement already satisfied: pandas in /usr/local/lib/python3.8/dist-packages (1.3.5)\n",
            "Requirement already satisfied: tiktoken in /usr/local/lib/python3.8/dist-packages (0.3.0)\n",
            "Requirement already satisfied: tqdm in /usr/local/lib/python3.8/dist-packages (from openai) (4.64.1)\n",
            "Requirement already satisfied: requests>=2.20 in /usr/local/lib/python3.8/dist-packages (from openai) (2.28.2)\n",
            "Requirement already satisfied: aiohttp in /usr/local/lib/python3.8/dist-packages (from openai) (3.8.4)\n",
            "Requirement already satisfied: pytz>=2017.3 in /usr/local/lib/python3.8/dist-packages (from pandas) (2022.7.1)\n",
            "Requirement already satisfied: python-dateutil>=2.7.3 in /usr/local/lib/python3.8/dist-packages (from pandas) (2.8.2)\n",
            "Requirement already satisfied: blobfile>=2 in /usr/local/lib/python3.8/dist-packages (from tiktoken) (2.0.1)\n",
            "Requirement already satisfied: regex>=2022.1.18 in /usr/local/lib/python3.8/dist-packages (from tiktoken) (2022.6.2)\n",
            "Requirement already satisfied: urllib3<3,>=1.25.3 in /usr/local/lib/python3.8/dist-packages (from blobfile>=2->tiktoken) (1.26.14)\n",
            "Requirement already satisfied: pycryptodomex~=3.8 in /usr/local/lib/python3.8/dist-packages (from blobfile>=2->tiktoken) (3.17)\n",
            "Requirement already satisfied: lxml~=4.9 in /usr/local/lib/python3.8/dist-packages (from blobfile>=2->tiktoken) (4.9.2)\n",
            "Requirement already satisfied: filelock~=3.0 in /usr/local/lib/python3.8/dist-packages (from blobfile>=2->tiktoken) (3.9.0)\n",
            "Requirement already satisfied: six>=1.5 in /usr/local/lib/python3.8/dist-packages (from python-dateutil>=2.7.3->pandas) (1.15.0)\n",
            "Requirement already satisfied: certifi>=2017.4.17 in /usr/local/lib/python3.8/dist-packages (from requests>=2.20->openai) (2022.12.7)\n",
            "Requirement already satisfied: idna<4,>=2.5 in /usr/local/lib/python3.8/dist-packages (from requests>=2.20->openai) (2.10)\n",
            "Requirement already satisfied: charset-normalizer<4,>=2 in /usr/local/lib/python3.8/dist-packages (from requests>=2.20->openai) (3.0.1)\n",
            "Requirement already satisfied: frozenlist>=1.1.1 in /usr/local/lib/python3.8/dist-packages (from aiohttp->openai) (1.3.3)\n",
            "Requirement already satisfied: multidict<7.0,>=4.5 in /usr/local/lib/python3.8/dist-packages (from aiohttp->openai) (6.0.4)\n",
            "Requirement already satisfied: async-timeout<5.0,>=4.0.0a3 in /usr/local/lib/python3.8/dist-packages (from aiohttp->openai) (4.0.2)\n",
            "Requirement already satisfied: yarl<2.0,>=1.0 in /usr/local/lib/python3.8/dist-packages (from aiohttp->openai) (1.8.2)\n",
            "Requirement already satisfied: aiosignal>=1.1.2 in /usr/local/lib/python3.8/dist-packages (from aiohttp->openai) (1.3.1)\n",
            "Requirement already satisfied: attrs>=17.3.0 in /usr/local/lib/python3.8/dist-packages (from aiohttp->openai) (22.2.0)\n"
          ]
        }
      ]
    },
    {
      "cell_type": "code",
      "execution_count": 27,
      "id": "9e3839a6-9146-4f60-b74b-19abbc24278d",
      "metadata": {
        "id": "9e3839a6-9146-4f60-b74b-19abbc24278d"
      },
      "outputs": [],
      "source": [
        "import numpy as np\n",
        "import openai\n",
        "import pandas as pd\n",
        "import pickle\n",
        "import tiktoken\n",
        "import os\n",
        "\n",
        "COMPLETIONS_MODEL = \"text-davinci-003\"\n",
        "EMBEDDING_MODEL = \"text-embedding-ada-002\""
      ]
    },
    {
      "cell_type": "code",
      "source": [
        "openai.api_key = openai_api_key"
      ],
      "metadata": {
        "id": "pDQJ5mJVvsLh"
      },
      "id": "pDQJ5mJVvsLh",
      "execution_count": 28,
      "outputs": []
    },
    {
      "cell_type": "markdown",
      "id": "9312f62f-e208-4030-a648-71ad97aee74f",
      "metadata": {
        "id": "9312f62f-e208-4030-a648-71ad97aee74f"
      },
      "source": [
        "By default, GPT-3 isn't an expert on the 2020 Olympics:"
      ]
    },
    {
      "cell_type": "code",
      "execution_count": 29,
      "id": "a167516c-7c19-4bda-afa5-031aa0ae13bb",
      "metadata": {
        "id": "a167516c-7c19-4bda-afa5-031aa0ae13bb",
        "outputId": "026c2053-80dd-4d92-ff58-7698ea95093d",
        "colab": {
          "base_uri": "https://localhost:8080/",
          "height": 35
        }
      },
      "outputs": [
        {
          "output_type": "execute_result",
          "data": {
            "text/plain": [
              "\"Marcelo Chierighini of Brazil won the gold medal in the men's high jump at the 2020 Summer Olympics.\""
            ],
            "application/vnd.google.colaboratory.intrinsic+json": {
              "type": "string"
            }
          },
          "metadata": {},
          "execution_count": 29
        }
      ],
      "source": [
        "prompt = \"Who won the 2020 Summer Olympics men's high jump?\"\n",
        "\n",
        "openai.Completion.create(\n",
        "    prompt=prompt,\n",
        "    temperature=0,\n",
        "    max_tokens=300,\n",
        "    model=COMPLETIONS_MODEL\n",
        ")[\"choices\"][0][\"text\"].strip(\" \\n\")"
      ]
    },
    {
      "cell_type": "markdown",
      "id": "47204cce-a7d5-4c81-ab6e-53323026e08c",
      "metadata": {
        "id": "47204cce-a7d5-4c81-ab6e-53323026e08c"
      },
      "source": [
        "Marcelo is a gold medalist swimmer, and, we assume, not much of a high jumper! Evidently GPT-3 needs some assistance here. \n",
        "\n",
        "The first issue to tackle is that the model is hallucinating an answer rather than telling us \"I don't know\". This is bad because it makes it hard to trust the answer that the model gives us! \n",
        "\n",
        "# 0) Preventing hallucination with prompt engineering\n",
        "\n",
        "We can address this hallucination issue by being more explicit with our prompt:\n"
      ]
    },
    {
      "cell_type": "code",
      "execution_count": 30,
      "id": "a5451371-17fe-4ef3-aa02-affcf4edb0e0",
      "metadata": {
        "id": "a5451371-17fe-4ef3-aa02-affcf4edb0e0",
        "outputId": "fed1fc21-f094-49a3-980d-68e9c3debd5a",
        "colab": {
          "base_uri": "https://localhost:8080/",
          "height": 35
        }
      },
      "outputs": [
        {
          "output_type": "execute_result",
          "data": {
            "text/plain": [
              "\"Sorry, I don't know.\""
            ],
            "application/vnd.google.colaboratory.intrinsic+json": {
              "type": "string"
            }
          },
          "metadata": {},
          "execution_count": 30
        }
      ],
      "source": [
        "prompt = \"\"\"Answer the question as truthfully as possible, and if you're unsure of the answer, say \"Sorry, I don't know\".\n",
        "\n",
        "Q: Who won the 2020 Summer Olympics men's high jump?\n",
        "A:\"\"\"\n",
        "\n",
        "openai.Completion.create(\n",
        "    prompt=prompt,\n",
        "    temperature=0,\n",
        "    max_tokens=300,\n",
        "    model=COMPLETIONS_MODEL\n",
        ")[\"choices\"][0][\"text\"].strip(\" \\n\")"
      ]
    },
    {
      "cell_type": "markdown",
      "id": "1af18d66-d47a-496d-ae5f-4c5d53caa434",
      "metadata": {
        "id": "1af18d66-d47a-496d-ae5f-4c5d53caa434"
      },
      "source": [
        "To help the model answer the question, we provide extra contextual information in the prompt. When the total required context is short, we can include it in the prompt directly. For example we can use this information taken from Wikipedia. We update the initial prompt to tell the model to explicitly make use of the provided text."
      ]
    },
    {
      "cell_type": "code",
      "execution_count": 31,
      "id": "fceaf665-2602-4788-bc44-9eb256a6f955",
      "metadata": {
        "id": "fceaf665-2602-4788-bc44-9eb256a6f955",
        "outputId": "1c8c3639-9cfb-46d3-e38a-1caeb88c4bd7",
        "colab": {
          "base_uri": "https://localhost:8080/",
          "height": 35
        }
      },
      "outputs": [
        {
          "output_type": "execute_result",
          "data": {
            "text/plain": [
              "'Gianmarco Tamberi and Mutaz Essa Barshim emerged as joint winners of the event.'"
            ],
            "application/vnd.google.colaboratory.intrinsic+json": {
              "type": "string"
            }
          },
          "metadata": {},
          "execution_count": 31
        }
      ],
      "source": [
        "prompt = \"\"\"Answer the question as truthfully as possible using the provided text, and if the answer is not contained within the text below, say \"I don't know\"\n",
        "\n",
        "Context:\n",
        "The men's high jump event at the 2020 Summer Olympics took place between 30 July and 1 August 2021 at the Olympic Stadium.\n",
        "33 athletes from 24 nations competed; the total possible number depended on how many nations would use universality places \n",
        "to enter athletes in addition to the 32 qualifying through mark or ranking (no universality places were used in 2021).\n",
        "Italian athlete Gianmarco Tamberi along with Qatari athlete Mutaz Essa Barshim emerged as joint winners of the event following\n",
        "a tie between both of them as they cleared 2.37m. Both Tamberi and Barshim agreed to share the gold medal in a rare instance\n",
        "where the athletes of different nations had agreed to share the same medal in the history of Olympics. \n",
        "Barshim in particular was heard to ask a competition official \"Can we have two golds?\" in response to being offered a \n",
        "'jump off'. Maksim Nedasekau of Belarus took bronze. The medals were the first ever in the men's high jump for Italy and \n",
        "Belarus, the first gold in the men's high jump for Italy and Qatar, and the third consecutive medal in the men's high jump\n",
        "for Qatar (all by Barshim). Barshim became only the second man to earn three medals in high jump, joining Patrik Sjöberg\n",
        "of Sweden (1984 to 1992).\n",
        "\n",
        "Q: Who won the 2020 Summer Olympics men's high jump?\n",
        "A:\"\"\"\n",
        "\n",
        "openai.Completion.create(\n",
        "    prompt=prompt,\n",
        "    temperature=0,\n",
        "    max_tokens=300,\n",
        "    top_p=1,\n",
        "    frequency_penalty=0,\n",
        "    presence_penalty=0,\n",
        "    model=COMPLETIONS_MODEL\n",
        ")[\"choices\"][0][\"text\"].strip(\" \\n\")"
      ]
    },
    {
      "cell_type": "markdown",
      "id": "ee85ee77-d8d2-4788-b57e-0785f2d7e2e3",
      "metadata": {
        "id": "ee85ee77-d8d2-4788-b57e-0785f2d7e2e3"
      },
      "source": [
        "Adding extra information into the prompt only works when the dataset of extra content that the model may need to know is small enough to fit in a single prompt. What do we do when we need the model to choose relevant contextual information from within a large body of information?\n",
        "\n",
        "**In the remainder of this notebook, we will demonstrate a method for augmenting GPT-3 with a large body of additional contextual information by using document embeddings and retrieval.** This method answers queries in two steps: first it retrieves the information relevant to the query, then it writes an answer tailored to the question based on the retrieved information. The first step uses the [Embeddings API](https://beta.openai.com/docs/guides/embeddings), the second step uses the [Completions API](https://beta.openai.com/docs/guides/completion/introduction).\n",
        " \n",
        "The steps are:\n",
        "* Preprocess the contextual information by splitting it into chunks and create an embedding vector for each chunk.\n",
        "* On receiving a query, embed the query in the same vector space as the context chunks and find the context embeddings which are most similar to the query.\n",
        "* Prepend the most relevant context embeddings to the query prompt.\n",
        "* Submit the question along with the most relevant context to GPT, and receive an answer which makes use of the provided contextual information."
      ]
    },
    {
      "cell_type": "markdown",
      "id": "0c9bfea5-a028-4191-b9f1-f210d76ec4e3",
      "metadata": {
        "id": "0c9bfea5-a028-4191-b9f1-f210d76ec4e3"
      },
      "source": [
        "# 1) Preprocess the document library\n",
        "\n",
        "We plan to use document embeddings to fetch the most relevant part of parts of our document library and insert them into the prompt that we provide to GPT-3. We therefore need to break up the document library into \"sections\" of context, which can be searched and retrieved separately. \n",
        "\n",
        "Sections should be large enough to contain enough information to answer a question; but small enough to fit one or several into the GPT-3 prompt. We find that approximately a paragraph of text is usually a good length, but you should experiment for your particular use case. In this example, Wikipedia articles are already grouped into semantically related headers, so we will use these to define our sections. This preprocessing has already been done in [this notebook](fine-tuned_qa/olympics-1-collect-data.ipynb), so we will load the results and use them."
      ]
    },
    {
      "cell_type": "code",
      "execution_count": 32,
      "id": "cc9c8d69-e234-48b4-87e3-935970e1523a",
      "metadata": {
        "id": "cc9c8d69-e234-48b4-87e3-935970e1523a",
        "outputId": "1a169455-53a8-4e28-c90e-9557b0baf38e",
        "colab": {
          "base_uri": "https://localhost:8080/",
          "height": 255
        }
      },
      "outputs": [
        {
          "output_type": "stream",
          "name": "stdout",
          "text": [
            "3964 rows in the data.\n"
          ]
        },
        {
          "output_type": "execute_result",
          "data": {
            "text/plain": [
              "                                                                                                                 content  \\\n",
              "title                                              heading                                                                 \n",
              "Volleyball at the 2020 Summer Olympics – Women'... Pools composition   Teams were seeded in the first two positions o...   \n",
              "Wrestling at the 2020 Summer Olympics              Competition format  16 wrestlers compete in each division. The com...   \n",
              "Thailand at the 2020 Summer Olympics               Equestrian          Thailand fielded a squad of three equestrian r...   \n",
              "Rowing at the 2020 Summer Olympics – Men's coxl... Summary             The men's coxless four event at the 2020 Summe...   \n",
              "Mongolia at the 2020 Summer Olympics               Shooting            Mongolian shooters achieved quota places for t...   \n",
              "\n",
              "                                                                       tokens  \n",
              "title                                              heading                     \n",
              "Volleyball at the 2020 Summer Olympics – Women'... Pools composition      123  \n",
              "Wrestling at the 2020 Summer Olympics              Competition format      93  \n",
              "Thailand at the 2020 Summer Olympics               Equestrian              83  \n",
              "Rowing at the 2020 Summer Olympics – Men's coxl... Summary                 79  \n",
              "Mongolia at the 2020 Summer Olympics               Shooting                60  "
            ],
            "text/html": [
              "\n",
              "  <div id=\"df-1c44ef68-9da4-4887-ae40-7ea0cf7624e3\">\n",
              "    <div class=\"colab-df-container\">\n",
              "      <div>\n",
              "<style scoped>\n",
              "    .dataframe tbody tr th:only-of-type {\n",
              "        vertical-align: middle;\n",
              "    }\n",
              "\n",
              "    .dataframe tbody tr th {\n",
              "        vertical-align: top;\n",
              "    }\n",
              "\n",
              "    .dataframe thead th {\n",
              "        text-align: right;\n",
              "    }\n",
              "</style>\n",
              "<table border=\"1\" class=\"dataframe\">\n",
              "  <thead>\n",
              "    <tr style=\"text-align: right;\">\n",
              "      <th></th>\n",
              "      <th></th>\n",
              "      <th>content</th>\n",
              "      <th>tokens</th>\n",
              "    </tr>\n",
              "    <tr>\n",
              "      <th>title</th>\n",
              "      <th>heading</th>\n",
              "      <th></th>\n",
              "      <th></th>\n",
              "    </tr>\n",
              "  </thead>\n",
              "  <tbody>\n",
              "    <tr>\n",
              "      <th>Volleyball at the 2020 Summer Olympics – Women's Asian qualification</th>\n",
              "      <th>Pools composition</th>\n",
              "      <td>Teams were seeded in the first two positions o...</td>\n",
              "      <td>123</td>\n",
              "    </tr>\n",
              "    <tr>\n",
              "      <th>Wrestling at the 2020 Summer Olympics</th>\n",
              "      <th>Competition format</th>\n",
              "      <td>16 wrestlers compete in each division. The com...</td>\n",
              "      <td>93</td>\n",
              "    </tr>\n",
              "    <tr>\n",
              "      <th>Thailand at the 2020 Summer Olympics</th>\n",
              "      <th>Equestrian</th>\n",
              "      <td>Thailand fielded a squad of three equestrian r...</td>\n",
              "      <td>83</td>\n",
              "    </tr>\n",
              "    <tr>\n",
              "      <th>Rowing at the 2020 Summer Olympics – Men's coxless four</th>\n",
              "      <th>Summary</th>\n",
              "      <td>The men's coxless four event at the 2020 Summe...</td>\n",
              "      <td>79</td>\n",
              "    </tr>\n",
              "    <tr>\n",
              "      <th>Mongolia at the 2020 Summer Olympics</th>\n",
              "      <th>Shooting</th>\n",
              "      <td>Mongolian shooters achieved quota places for t...</td>\n",
              "      <td>60</td>\n",
              "    </tr>\n",
              "  </tbody>\n",
              "</table>\n",
              "</div>\n",
              "      <button class=\"colab-df-convert\" onclick=\"convertToInteractive('df-1c44ef68-9da4-4887-ae40-7ea0cf7624e3')\"\n",
              "              title=\"Convert this dataframe to an interactive table.\"\n",
              "              style=\"display:none;\">\n",
              "        \n",
              "  <svg xmlns=\"http://www.w3.org/2000/svg\" height=\"24px\"viewBox=\"0 0 24 24\"\n",
              "       width=\"24px\">\n",
              "    <path d=\"M0 0h24v24H0V0z\" fill=\"none\"/>\n",
              "    <path d=\"M18.56 5.44l.94 2.06.94-2.06 2.06-.94-2.06-.94-.94-2.06-.94 2.06-2.06.94zm-11 1L8.5 8.5l.94-2.06 2.06-.94-2.06-.94L8.5 2.5l-.94 2.06-2.06.94zm10 10l.94 2.06.94-2.06 2.06-.94-2.06-.94-.94-2.06-.94 2.06-2.06.94z\"/><path d=\"M17.41 7.96l-1.37-1.37c-.4-.4-.92-.59-1.43-.59-.52 0-1.04.2-1.43.59L10.3 9.45l-7.72 7.72c-.78.78-.78 2.05 0 2.83L4 21.41c.39.39.9.59 1.41.59.51 0 1.02-.2 1.41-.59l7.78-7.78 2.81-2.81c.8-.78.8-2.07 0-2.86zM5.41 20L4 18.59l7.72-7.72 1.47 1.35L5.41 20z\"/>\n",
              "  </svg>\n",
              "      </button>\n",
              "      \n",
              "  <style>\n",
              "    .colab-df-container {\n",
              "      display:flex;\n",
              "      flex-wrap:wrap;\n",
              "      gap: 12px;\n",
              "    }\n",
              "\n",
              "    .colab-df-convert {\n",
              "      background-color: #E8F0FE;\n",
              "      border: none;\n",
              "      border-radius: 50%;\n",
              "      cursor: pointer;\n",
              "      display: none;\n",
              "      fill: #1967D2;\n",
              "      height: 32px;\n",
              "      padding: 0 0 0 0;\n",
              "      width: 32px;\n",
              "    }\n",
              "\n",
              "    .colab-df-convert:hover {\n",
              "      background-color: #E2EBFA;\n",
              "      box-shadow: 0px 1px 2px rgba(60, 64, 67, 0.3), 0px 1px 3px 1px rgba(60, 64, 67, 0.15);\n",
              "      fill: #174EA6;\n",
              "    }\n",
              "\n",
              "    [theme=dark] .colab-df-convert {\n",
              "      background-color: #3B4455;\n",
              "      fill: #D2E3FC;\n",
              "    }\n",
              "\n",
              "    [theme=dark] .colab-df-convert:hover {\n",
              "      background-color: #434B5C;\n",
              "      box-shadow: 0px 1px 3px 1px rgba(0, 0, 0, 0.15);\n",
              "      filter: drop-shadow(0px 1px 2px rgba(0, 0, 0, 0.3));\n",
              "      fill: #FFFFFF;\n",
              "    }\n",
              "  </style>\n",
              "\n",
              "      <script>\n",
              "        const buttonEl =\n",
              "          document.querySelector('#df-1c44ef68-9da4-4887-ae40-7ea0cf7624e3 button.colab-df-convert');\n",
              "        buttonEl.style.display =\n",
              "          google.colab.kernel.accessAllowed ? 'block' : 'none';\n",
              "\n",
              "        async function convertToInteractive(key) {\n",
              "          const element = document.querySelector('#df-1c44ef68-9da4-4887-ae40-7ea0cf7624e3');\n",
              "          const dataTable =\n",
              "            await google.colab.kernel.invokeFunction('convertToInteractive',\n",
              "                                                     [key], {});\n",
              "          if (!dataTable) return;\n",
              "\n",
              "          const docLinkHtml = 'Like what you see? Visit the ' +\n",
              "            '<a target=\"_blank\" href=https://colab.research.google.com/notebooks/data_table.ipynb>data table notebook</a>'\n",
              "            + ' to learn more about interactive tables.';\n",
              "          element.innerHTML = '';\n",
              "          dataTable['output_type'] = 'display_data';\n",
              "          await google.colab.output.renderOutput(dataTable, element);\n",
              "          const docLink = document.createElement('div');\n",
              "          docLink.innerHTML = docLinkHtml;\n",
              "          element.appendChild(docLink);\n",
              "        }\n",
              "      </script>\n",
              "    </div>\n",
              "  </div>\n",
              "  "
            ]
          },
          "metadata": {},
          "execution_count": 32
        }
      ],
      "source": [
        "# We have hosted the processed dataset, so you can download it directly without having to recreate it.\n",
        "# This dataset has already been split into sections, one row for each section of the Wikipedia page.\n",
        "\n",
        "df = pd.read_csv('https://cdn.openai.com/API/examples/data/olympics_sections_text.csv')\n",
        "df = df.set_index([\"title\", \"heading\"])\n",
        "print(f\"{len(df)} rows in the data.\")\n",
        "df.sample(5)"
      ]
    },
    {
      "cell_type": "markdown",
      "id": "a17b88b9-7ea2-491e-9727-12617c74a77d",
      "metadata": {
        "id": "a17b88b9-7ea2-491e-9727-12617c74a77d"
      },
      "source": [
        "We preprocess the document sections by creating an embedding vector for each section. An embedding is a vector of numbers that helps us understand how semantically similar or different the texts are. The closer two embeddings are to each other, the more similar are their contents. See the [documentation on OpenAI embeddings](https://beta.openai.com/docs/guides/embeddings) for more information.\n",
        "\n",
        "This indexing stage can be executed offline and only runs once to precompute the indexes for the dataset so that each piece of content can be retrieved later. Since this is a small example, we will store and search the embeddings locally. If you have a larger dataset, consider using a vector search engine like [Pinecone](https://www.pinecone.io/) or [Weaviate](https://github.com/semi-technologies/weaviate) to power the search."
      ]
    },
    {
      "cell_type": "code",
      "execution_count": 33,
      "id": "ba475f30-ef7f-431c-b60d-d5970b62ad09",
      "metadata": {
        "id": "ba475f30-ef7f-431c-b60d-d5970b62ad09"
      },
      "outputs": [],
      "source": [
        "def get_embedding(text: str, model: str=EMBEDDING_MODEL):\n",
        "    result = openai.Embedding.create(\n",
        "      model=model,\n",
        "      input=text\n",
        "    )\n",
        "    return  result['data'][0]['embedding']\n",
        "\n",
        "def compute_doc_embeddings(df: pd.DataFrame):\n",
        "    \"\"\"\n",
        "    Create an embedding for each row in the dataframe using the OpenAI Embeddings API.\n",
        "    \n",
        "    Return a dictionary that maps between each embedding vector and the index of the row that it corresponds to.\n",
        "    \"\"\"\n",
        "    return {\n",
        "        idx: get_embedding(r.content) for idx, r in df.iterrows()\n",
        "    }"
      ]
    },
    {
      "cell_type": "code",
      "execution_count": 34,
      "id": "737266aa-cbe7-4691-87c1-fce8a31632f1",
      "metadata": {
        "id": "737266aa-cbe7-4691-87c1-fce8a31632f1"
      },
      "outputs": [],
      "source": [
        "def load_embeddings(fname: str):\n",
        "    \"\"\"\n",
        "    Read the document embeddings and their keys from a CSV.\n",
        "    \n",
        "    fname is the path to a CSV with exactly these named columns: \n",
        "        \"title\", \"heading\", \"0\", \"1\", ... up to the length of the embedding vectors.\n",
        "    \"\"\"\n",
        "    \n",
        "    df = pd.read_csv(fname, header=0)\n",
        "    max_dim = max([int(c) for c in df.columns if c != \"title\" and c != \"heading\"])\n",
        "    return {\n",
        "           (r.title, r.heading): [r[str(i)] for i in range(max_dim + 1)] for _, r in df.iterrows()\n",
        "    }"
      ]
    },
    {
      "cell_type": "markdown",
      "id": "cfe9c723-f838-4c75-8ed8-286b2e491a60",
      "metadata": {
        "id": "cfe9c723-f838-4c75-8ed8-286b2e491a60"
      },
      "source": [
        "Again, we have hosted the embeddings for you so you don't have to re-calculate them from scratch."
      ]
    },
    {
      "cell_type": "code",
      "execution_count": 35,
      "id": "ab50bfca-cb02-41c6-b338-4400abe1d86e",
      "metadata": {
        "id": "ab50bfca-cb02-41c6-b338-4400abe1d86e"
      },
      "outputs": [],
      "source": [
        "document_embeddings = load_embeddings(\"https://cdn.openai.com/API/examples/data/olympics_sections_document_embeddings.csv\")\n",
        "\n",
        "# ===== OR, uncomment the below line to recaculate the embeddings from scratch. ========\n",
        "\n",
        "# document_embeddings = compute_doc_embeddings(df)"
      ]
    },
    {
      "cell_type": "code",
      "execution_count": 36,
      "id": "b9a8c713-c8a9-47dc-85a4-871ee1395566",
      "metadata": {
        "id": "b9a8c713-c8a9-47dc-85a4-871ee1395566",
        "outputId": "538e0a52-2c8f-48b2-f07e-0650d59ac7d2",
        "colab": {
          "base_uri": "https://localhost:8080/"
        }
      },
      "outputs": [
        {
          "output_type": "stream",
          "name": "stdout",
          "text": [
            "('2020 Summer Olympics', 'Summary') : [0.0037565305829048, -0.0061981128528714, -0.0087078781798481, -0.0071364338509738, -0.0025227521546185]... (1536 entries)\n"
          ]
        }
      ],
      "source": [
        "# An example embedding:\n",
        "example_entry = list(document_embeddings.items())[0]\n",
        "print(f\"{example_entry[0]} : {example_entry[1][:5]}... ({len(example_entry[1])} entries)\")"
      ]
    },
    {
      "cell_type": "markdown",
      "id": "aa32cf88-9edb-4dc6-b4cf-a16a8de7d304",
      "metadata": {
        "tags": [],
        "id": "aa32cf88-9edb-4dc6-b4cf-a16a8de7d304"
      },
      "source": [
        "So we have split our document library into sections, and encoded them by creating embedding vectors that represent each chunk. Next we will use these embeddings to answer our users' questions.\n",
        "\n",
        "# 2) Find the most similar document embeddings to the question embedding\n",
        "\n",
        "At the time of question-answering, to answer the user's query we compute the query embedding of the question and use it to find the most similar document sections. Since this is a small example, we store and search the embeddings locally. If you have a larger dataset, consider using a vector search engine like [Pinecone](https://www.pinecone.io/) or [Weaviate](https://github.com/semi-technologies/weaviate) to power the search."
      ]
    },
    {
      "cell_type": "code",
      "execution_count": 37,
      "id": "dcd680e9-f194-4180-b14f-fc357498eb92",
      "metadata": {
        "id": "dcd680e9-f194-4180-b14f-fc357498eb92"
      },
      "outputs": [],
      "source": [
        "def vector_similarity(x, y) -> float:\n",
        "    \"\"\"\n",
        "    Returns the similarity between two vectors.\n",
        "    \n",
        "    Because OpenAI Embeddings are normalized to length 1, the cosine similarity is the same as the dot product.\n",
        "    \"\"\"\n",
        "    return np.dot(np.array(x), np.array(y))\n",
        "\n",
        "def order_document_sections_by_query_similarity(query: str, contexts):\n",
        "    \"\"\"\n",
        "    Find the query embedding for the supplied query, and compare it against all of the pre-calculated document embeddings\n",
        "    to find the most relevant sections. \n",
        "    \n",
        "    Return the list of document sections, sorted by relevance in descending order.\n",
        "    \"\"\"\n",
        "    query_embedding = get_embedding(query)\n",
        "    \n",
        "    document_similarities = sorted([\n",
        "        (vector_similarity(query_embedding, doc_embedding), doc_index) for doc_index, doc_embedding in contexts.items()\n",
        "    ], reverse=True)\n",
        "    \n",
        "    return document_similarities"
      ]
    },
    {
      "cell_type": "code",
      "execution_count": 38,
      "id": "e3a27d73-f47f-480d-b336-079414f749cb",
      "metadata": {
        "id": "e3a27d73-f47f-480d-b336-079414f749cb",
        "outputId": "4e4d3149-f5c1-4c09-f7a3-3cd3bc3bf22f",
        "colab": {
          "base_uri": "https://localhost:8080/"
        }
      },
      "outputs": [
        {
          "output_type": "execute_result",
          "data": {
            "text/plain": [
              "[(0.8848643084506063,\n",
              "  (\"Athletics at the 2020 Summer Olympics – Men's high jump\", 'Summary')),\n",
              " (0.8633938355935517,\n",
              "  (\"Athletics at the 2020 Summer Olympics – Men's pole vault\", 'Summary')),\n",
              " (0.8616397305838509,\n",
              "  (\"Athletics at the 2020 Summer Olympics – Men's long jump\", 'Summary')),\n",
              " (0.8560523857031264,\n",
              "  (\"Athletics at the 2020 Summer Olympics – Men's triple jump\", 'Summary')),\n",
              " (0.8469039130441239,\n",
              "  (\"Athletics at the 2020 Summer Olympics – Men's 110 metres hurdles\",\n",
              "   'Summary'))]"
            ]
          },
          "metadata": {},
          "execution_count": 38
        }
      ],
      "source": [
        "order_document_sections_by_query_similarity(\"Who won the men's high jump?\", document_embeddings)[:5]"
      ]
    },
    {
      "cell_type": "code",
      "execution_count": 39,
      "id": "729c2ce7-8540-4ab2-bb3a-76c4dfcb689c",
      "metadata": {
        "id": "729c2ce7-8540-4ab2-bb3a-76c4dfcb689c",
        "outputId": "bd4bee27-5c83-4025-b9e1-5b6ff8312d84",
        "colab": {
          "base_uri": "https://localhost:8080/"
        }
      },
      "outputs": [
        {
          "output_type": "execute_result",
          "data": {
            "text/plain": [
              "[(0.8726165220223292,\n",
              "  (\"Athletics at the 2020 Summer Olympics – Women's long jump\", 'Summary')),\n",
              " (0.8682196158313356,\n",
              "  (\"Athletics at the 2020 Summer Olympics – Women's high jump\", 'Summary')),\n",
              " (0.8631915263706721,\n",
              "  (\"Athletics at the 2020 Summer Olympics – Women's pole vault\", 'Summary')),\n",
              " (0.8609374262115408,\n",
              "  (\"Athletics at the 2020 Summer Olympics – Women's triple jump\", 'Summary')),\n",
              " (0.8581515607285686,\n",
              "  (\"Athletics at the 2020 Summer Olympics – Women's 100 metres hurdles\",\n",
              "   'Summary'))]"
            ]
          },
          "metadata": {},
          "execution_count": 39
        }
      ],
      "source": [
        "order_document_sections_by_query_similarity(\"Who won the women's high jump?\", document_embeddings)[:5]"
      ]
    },
    {
      "cell_type": "markdown",
      "id": "3cf71fae-abb1-46b2-a483-c1b2f1a915c2",
      "metadata": {
        "id": "3cf71fae-abb1-46b2-a483-c1b2f1a915c2"
      },
      "source": [
        "We can see that the most relevant document sections for each question include the summaries for the Men's and Women's high jump competitions - which is exactly what we would expect."
      ]
    },
    {
      "cell_type": "markdown",
      "id": "a0efa0f6-4469-457a-89a4-a2f5736a01e0",
      "metadata": {
        "id": "a0efa0f6-4469-457a-89a4-a2f5736a01e0"
      },
      "source": [
        "# 3) Add the most relevant document sections to the query prompt\n",
        "\n",
        "Once we've calculated the most relevant pieces of context, we construct a prompt by simply prepending them to the supplied query. It is helpful to use a query separator to help the model distinguish between separate pieces of text."
      ]
    },
    {
      "cell_type": "code",
      "execution_count": 40,
      "id": "b763ace2-1946-48e0-8ff1-91ba335d47a0",
      "metadata": {
        "id": "b763ace2-1946-48e0-8ff1-91ba335d47a0",
        "outputId": "fa235aaf-7a8b-4463-c483-63943236da15",
        "colab": {
          "base_uri": "https://localhost:8080/",
          "height": 35
        }
      },
      "outputs": [
        {
          "output_type": "execute_result",
          "data": {
            "text/plain": [
              "'Context separator contains 3 tokens'"
            ],
            "application/vnd.google.colaboratory.intrinsic+json": {
              "type": "string"
            }
          },
          "metadata": {},
          "execution_count": 40
        }
      ],
      "source": [
        "MAX_SECTION_LEN = 500\n",
        "SEPARATOR = \"\\n* \"\n",
        "ENCODING = \"gpt2\"  # encoding for text-davinci-003\n",
        "\n",
        "encoding = tiktoken.get_encoding(ENCODING)\n",
        "separator_len = len(encoding.encode(SEPARATOR))\n",
        "\n",
        "f\"Context separator contains {separator_len} tokens\""
      ]
    },
    {
      "cell_type": "code",
      "execution_count": 41,
      "id": "0c5c0509-eeb9-4552-a5d4-6ace04ef73dd",
      "metadata": {
        "id": "0c5c0509-eeb9-4552-a5d4-6ace04ef73dd"
      },
      "outputs": [],
      "source": [
        "def construct_prompt(question: str, context_embeddings: dict, df: pd.DataFrame) -> str:\n",
        "    \"\"\"\n",
        "    Fetch relevant \n",
        "    \"\"\"\n",
        "    most_relevant_document_sections = order_document_sections_by_query_similarity(question, context_embeddings)\n",
        "    \n",
        "    chosen_sections = []\n",
        "    chosen_sections_len = 0\n",
        "    chosen_sections_indexes = []\n",
        "     \n",
        "    for _, section_index in most_relevant_document_sections:\n",
        "        # Add contexts until we run out of space.        \n",
        "        document_section = df.loc[section_index]\n",
        "        \n",
        "        chosen_sections_len += document_section.tokens + separator_len\n",
        "        if chosen_sections_len > MAX_SECTION_LEN:\n",
        "            break\n",
        "            \n",
        "        chosen_sections.append(SEPARATOR + document_section.content.replace(\"\\n\", \" \"))\n",
        "        chosen_sections_indexes.append(str(section_index))\n",
        "            \n",
        "    # Useful diagnostic information\n",
        "    print(f\"Selected {len(chosen_sections)} document sections:\")\n",
        "    print(\"\\n\".join(chosen_sections_indexes))\n",
        "    \n",
        "    header = \"\"\"Answer the question as truthfully as possible using the provided context, and if the answer is not contained within the text below, say \"I don't know.\"\\n\\nContext:\\n\"\"\"\n",
        "    \n",
        "    return header + \"\".join(chosen_sections) + \"\\n\\n Q: \" + question + \"\\n A:\""
      ]
    },
    {
      "cell_type": "code",
      "execution_count": 42,
      "id": "f614045a-3917-4b28-9643-7e0c299ec1a7",
      "metadata": {
        "id": "f614045a-3917-4b28-9643-7e0c299ec1a7",
        "outputId": "995dbafd-1da6-443f-b68d-812d0d017f16",
        "colab": {
          "base_uri": "https://localhost:8080/"
        }
      },
      "outputs": [
        {
          "output_type": "stream",
          "name": "stdout",
          "text": [
            "Selected 2 document sections:\n",
            "(\"Athletics at the 2020 Summer Olympics – Men's high jump\", 'Summary')\n",
            "(\"Athletics at the 2020 Summer Olympics – Men's long jump\", 'Summary')\n",
            "===\n",
            " Answer the question as truthfully as possible using the provided context, and if the answer is not contained within the text below, say \"I don't know.\"\n",
            "\n",
            "Context:\n",
            "\n",
            "* The men's high jump event at the 2020 Summer Olympics took place between 30 July and 1 August 2021 at the Olympic Stadium. 33 athletes from 24 nations competed; the total possible number depended on how many nations would use universality places to enter athletes in addition to the 32 qualifying through mark or ranking (no universality places were used in 2021). Italian athlete Gianmarco Tamberi along with Qatari athlete Mutaz Essa Barshim emerged as joint winners of the event following a tie between both of them as they cleared 2.37m. Both Tamberi and Barshim agreed to share the gold medal in a rare instance where the athletes of different nations had agreed to share the same medal in the history of Olympics. Barshim in particular was heard to ask a competition official \"Can we have two golds?\" in response to being offered a 'jump off'. Maksim Nedasekau of Belarus took bronze. The medals were the first ever in the men's high jump for Italy and Belarus, the first gold in the men's high jump for Italy and Qatar, and the third consecutive medal in the men's high jump for Qatar (all by Barshim). Barshim became only the second man to earn three medals in high jump, joining Patrik Sjöberg of Sweden (1984 to 1992).\n",
            "* The men's long jump event at the 2020 Summer Olympics took place between 31 July and 2 August 2021 at the Japan National Stadium. Approximately 35 athletes were expected to compete; the exact number was dependent on how many nations use universality places to enter athletes in addition to the 32 qualifying through time or ranking (1 universality place was used in 2016). 31 athletes from 20 nations competed. Miltiadis Tentoglou won the gold medal, Greece's first medal in the men's long jump. Cuban athletes Juan Miguel Echevarría and Maykel Massó earned silver and bronze, respectively, the nation's first medals in the event since 2008.\n",
            "\n",
            " Q: Who won the 2020 Summer Olympics men's high jump?\n",
            " A:\n"
          ]
        }
      ],
      "source": [
        "prompt = construct_prompt(\n",
        "    \"Who won the 2020 Summer Olympics men's high jump?\",\n",
        "    document_embeddings,\n",
        "    df\n",
        ")\n",
        "\n",
        "print(\"===\\n\", prompt)"
      ]
    },
    {
      "cell_type": "markdown",
      "id": "1b022fd4-0a3c-4ae1-bed1-4c80e4f0fb56",
      "metadata": {
        "tags": [],
        "id": "1b022fd4-0a3c-4ae1-bed1-4c80e4f0fb56"
      },
      "source": [
        "We have now obtained the document sections that are most relevant to the question. As a final step, let's put it all together to get an answer to the question.\n",
        "\n",
        "# 4) Answer the user's question based on the context.\n",
        "\n",
        "Now that we've retrieved the relevant context and constructed our prompt, we can finally use the Completions API to answer the user's query."
      ]
    },
    {
      "cell_type": "code",
      "execution_count": 43,
      "id": "b0edfec7-9243-4573-92e0-253d31c771ad",
      "metadata": {
        "id": "b0edfec7-9243-4573-92e0-253d31c771ad"
      },
      "outputs": [],
      "source": [
        "COMPLETIONS_API_PARAMS = {\n",
        "    # We use temperature of 0.0 because it gives the most predictable, factual answer.\n",
        "    \"temperature\": 0.0,\n",
        "    \"max_tokens\": 300,\n",
        "    \"model\": COMPLETIONS_MODEL,\n",
        "}"
      ]
    },
    {
      "cell_type": "code",
      "execution_count": 44,
      "id": "9c1c9a69-848e-4099-a90d-c8da36c153d5",
      "metadata": {
        "id": "9c1c9a69-848e-4099-a90d-c8da36c153d5"
      },
      "outputs": [],
      "source": [
        "def answer_query_with_context(\n",
        "    query: str,\n",
        "    df: pd.DataFrame,\n",
        "    document_embeddings,\n",
        "    show_prompt: bool = False\n",
        ") -> str:\n",
        "    prompt = construct_prompt(\n",
        "        query,\n",
        "        document_embeddings,\n",
        "        df\n",
        "    )\n",
        "    \n",
        "    if show_prompt:\n",
        "        print(prompt)\n",
        "\n",
        "    response = openai.Completion.create(\n",
        "                prompt=prompt,\n",
        "                **COMPLETIONS_API_PARAMS\n",
        "            )\n",
        "\n",
        "    return response[\"choices\"][0][\"text\"].strip(\" \\n\")"
      ]
    },
    {
      "cell_type": "code",
      "execution_count": 45,
      "id": "c233e449-bf33-4c9e-b095-6a4dd278c8fd",
      "metadata": {
        "id": "c233e449-bf33-4c9e-b095-6a4dd278c8fd",
        "outputId": "90d846e0-3f33-4e4a-85de-d28c98b1d692",
        "colab": {
          "base_uri": "https://localhost:8080/",
          "height": 107
        }
      },
      "outputs": [
        {
          "output_type": "stream",
          "name": "stdout",
          "text": [
            "Selected 2 document sections:\n",
            "(\"Athletics at the 2020 Summer Olympics – Men's high jump\", 'Summary')\n",
            "(\"Athletics at the 2020 Summer Olympics – Men's long jump\", 'Summary')\n"
          ]
        },
        {
          "output_type": "execute_result",
          "data": {
            "text/plain": [
              "'Gianmarco Tamberi and Mutaz Essa Barshim emerged as joint winners of the event following a tie between both of them as they cleared 2.37m. Both Tamberi and Barshim agreed to share the gold medal.'"
            ],
            "application/vnd.google.colaboratory.intrinsic+json": {
              "type": "string"
            }
          },
          "metadata": {},
          "execution_count": 45
        }
      ],
      "source": [
        "answer_query_with_context(\"Who won the 2020 Summer Olympics men's high jump?\", df, document_embeddings)"
      ]
    },
    {
      "cell_type": "markdown",
      "id": "7b48d155-d2d4-447c-ab8e-5a5b4722b07c",
      "metadata": {
        "id": "7b48d155-d2d4-447c-ab8e-5a5b4722b07c"
      },
      "source": [
        "By combining the Embeddings and Completions APIs, we have created a question-answering model which can answer questions using a large base of additional knowledge. It also understands when it doesn't know the answer! \n",
        "\n",
        "For this example we have used a dataset of Wikipedia articles, but that dataset could be replaced with books, articles, documentation, service manuals, or much much more. **We can't wait to see what you create with GPT-3!**\n",
        "\n",
        "# More Examples\n",
        "\n",
        "Let's have some fun and try some more examples."
      ]
    },
    {
      "cell_type": "code",
      "execution_count": 46,
      "id": "1127867b-2884-44bb-9439-0e8ae171c835",
      "metadata": {
        "id": "1127867b-2884-44bb-9439-0e8ae171c835",
        "outputId": "a75c2c86-6a36-48bd-aca8-b82d59da8ab1",
        "colab": {
          "base_uri": "https://localhost:8080/"
        }
      },
      "outputs": [
        {
          "output_type": "stream",
          "name": "stdout",
          "text": [
            "Selected 1 document sections:\n",
            "('Concerns and controversies at the 2020 Summer Olympics', 'Summary')\n",
            "\n",
            "Q: Why was the 2020 Summer Olympics originally postponed?\n",
            "A: The 2020 Summer Olympics were originally postponed due to the COVID-19 pandemic.\n"
          ]
        }
      ],
      "source": [
        "query = \"Why was the 2020 Summer Olympics originally postponed?\"\n",
        "answer = answer_query_with_context(query, df, document_embeddings)\n",
        "\n",
        "print(f\"\\nQ: {query}\\nA: {answer}\")"
      ]
    },
    {
      "cell_type": "code",
      "execution_count": 47,
      "id": "720d9e0b-b189-4101-91ee-babf736199e6",
      "metadata": {
        "id": "720d9e0b-b189-4101-91ee-babf736199e6",
        "outputId": "fecb00f4-4c9c-4caf-c418-c96b7450f921",
        "colab": {
          "base_uri": "https://localhost:8080/"
        }
      },
      "outputs": [
        {
          "output_type": "stream",
          "name": "stdout",
          "text": [
            "Selected 2 document sections:\n",
            "('2020 Summer Olympics medal table', 'Summary')\n",
            "('List of 2020 Summer Olympics medal winners', 'Summary')\n",
            "\n",
            "Q: In the 2020 Summer Olympics, how many gold medals did the country which won the most medals win?\n",
            "A: The United States won the most medals overall, with 113, and the most gold medals, with 39.\n"
          ]
        }
      ],
      "source": [
        "query = \"In the 2020 Summer Olympics, how many gold medals did the country which won the most medals win?\"\n",
        "answer = answer_query_with_context(query, df, document_embeddings)\n",
        "\n",
        "print(f\"\\nQ: {query}\\nA: {answer}\")"
      ]
    },
    {
      "cell_type": "code",
      "execution_count": 48,
      "id": "4e8e51cc-e4eb-4557-9e09-2929d4df5b7f",
      "metadata": {
        "id": "4e8e51cc-e4eb-4557-9e09-2929d4df5b7f",
        "outputId": "ac4d846a-afaf-4d71-e342-44006355165a",
        "colab": {
          "base_uri": "https://localhost:8080/"
        }
      },
      "outputs": [
        {
          "output_type": "stream",
          "name": "stdout",
          "text": [
            "Selected 2 document sections:\n",
            "(\"Athletics at the 2020 Summer Olympics – Men's shot put\", 'Summary')\n",
            "(\"Athletics at the 2020 Summer Olympics – Men's discus throw\", 'Summary')\n",
            "\n",
            "Q: What was unusual about the men’s shotput competition?\n",
            "A: The same three competitors received the same medals in back-to-back editions of the same individual event.\n"
          ]
        }
      ],
      "source": [
        "query = \"What was unusual about the men’s shotput competition?\"\n",
        "answer = answer_query_with_context(query, df, document_embeddings)\n",
        "\n",
        "print(f\"\\nQ: {query}\\nA: {answer}\")"
      ]
    },
    {
      "cell_type": "code",
      "execution_count": 49,
      "id": "37c83519-e3c6-4c44-8b4a-98cbb3a5f5ba",
      "metadata": {
        "id": "37c83519-e3c6-4c44-8b4a-98cbb3a5f5ba",
        "outputId": "79f6eed4-391f-4ff8-ebd4-fd3553b3f42f",
        "colab": {
          "base_uri": "https://localhost:8080/"
        }
      },
      "outputs": [
        {
          "output_type": "stream",
          "name": "stdout",
          "text": [
            "Selected 2 document sections:\n",
            "('Italy at the 2020 Summer Olympics', 'Summary')\n",
            "('San Marino at the 2020 Summer Olympics', 'Summary')\n",
            "\n",
            "Q: In the 2020 Summer Olympics, how many silver medals did Italy win?\n",
            "A: 10 silver medals.\n"
          ]
        }
      ],
      "source": [
        "query = \"In the 2020 Summer Olympics, how many silver medals did Italy win?\"\n",
        "answer = answer_query_with_context(query, df, document_embeddings)\n",
        "\n",
        "print(f\"\\nQ: {query}\\nA: {answer}\")"
      ]
    },
    {
      "cell_type": "markdown",
      "id": "177c945e-f5c4-4fa5-8331-44f328b25e44",
      "metadata": {
        "id": "177c945e-f5c4-4fa5-8331-44f328b25e44"
      },
      "source": [
        "Our Q&A model is less prone to hallucinating answers, and has a better sense of what it does or doesn't know. This works when the information isn't contained in the context; when the question is nonsensical; or when the question is theoretically answerable but beyond GPT-3's powers!"
      ]
    },
    {
      "cell_type": "code",
      "execution_count": 50,
      "id": "26a1a9ef-e1ee-4f80-a1b1-6164ccfa5bac",
      "metadata": {
        "id": "26a1a9ef-e1ee-4f80-a1b1-6164ccfa5bac",
        "outputId": "83086433-a650-4153-994f-b54261d80be0",
        "colab": {
          "base_uri": "https://localhost:8080/"
        }
      },
      "outputs": [
        {
          "output_type": "stream",
          "name": "stdout",
          "text": [
            "Selected 4 document sections:\n",
            "('France at the 2020 Summer Olympics', 'Taekwondo')\n",
            "('Taekwondo at the 2020 Summer Olympics – Qualification', 'Qualification summary')\n",
            "('2020 Summer Olympics medal table', 'Medal count')\n",
            "(\"Taekwondo at the 2020 Summer Olympics – Men's 80 kg\", 'Competition format')\n",
            "\n",
            "Q: What is the total number of medals won by France, multiplied by the number of Taekwondo medals given out to all countries?\n",
            "A: I don't know.\n"
          ]
        }
      ],
      "source": [
        "query = \"What is the total number of medals won by France, multiplied by the number of Taekwondo medals given out to all countries?\"\n",
        "answer = answer_query_with_context(query, df, document_embeddings)\n",
        "\n",
        "print(f\"\\nQ: {query}\\nA: {answer}\")"
      ]
    },
    {
      "cell_type": "code",
      "execution_count": 51,
      "id": "9fba8a63-eb81-4661-ae17-59bb5e2933d6",
      "metadata": {
        "id": "9fba8a63-eb81-4661-ae17-59bb5e2933d6",
        "outputId": "4e034024-88f8-45d8-e9ac-8bf3996423fa",
        "colab": {
          "base_uri": "https://localhost:8080/"
        }
      },
      "outputs": [
        {
          "output_type": "stream",
          "name": "stdout",
          "text": [
            "Selected 3 document sections:\n",
            "(\"Ski mountaineering at the 2020 Winter Youth Olympics – Boys' individual\", 'Summary')\n",
            "(\"Sport climbing at the 2020 Summer Olympics – Men's combined\", 'Route-setting')\n",
            "(\"Ski mountaineering at the 2020 Winter Youth Olympics – Girls' individual\", 'Summary')\n",
            "\n",
            "Q: What is the tallest mountain in the world?\n",
            "A: I don't know.\n"
          ]
        }
      ],
      "source": [
        "query = \"What is the tallest mountain in the world?\"\n",
        "answer = answer_query_with_context(query, df, document_embeddings)\n",
        "\n",
        "print(f\"\\nQ: {query}\\nA: {answer}\")"
      ]
    },
    {
      "cell_type": "code",
      "execution_count": 52,
      "id": "2d4c693b-cdb9-4f4c-bd1b-f77b29097a1f",
      "metadata": {
        "id": "2d4c693b-cdb9-4f4c-bd1b-f77b29097a1f",
        "outputId": "5ecad571-200a-4123-f769-500429bd4612",
        "colab": {
          "base_uri": "https://localhost:8080/"
        }
      },
      "outputs": [
        {
          "output_type": "stream",
          "name": "stdout",
          "text": [
            "Selected 2 document sections:\n",
            "(\"Gymnastics at the 2020 Summer Olympics – Women's trampoline\", 'Summary')\n",
            "('Equestrian at the 2020 Summer Olympics – Team jumping', 'Summary')\n",
            "\n",
            "Q: Who won the grimblesplatch competition at the 2020 Summer Olympic games?\n",
            "A: I don't know.\n"
          ]
        }
      ],
      "source": [
        "query = \"Who won the grimblesplatch competition at the 2020 Summer Olympic games?\"\n",
        "answer = answer_query_with_context(query, df, document_embeddings)\n",
        "\n",
        "print(f\"\\nQ: {query}\\nA: {answer}\")"
      ]
    }
  ],
  "metadata": {
    "kernelspec": {
      "display_name": "Python 3.9.9 ('openai')",
      "language": "python",
      "name": "python3"
    },
    "language_info": {
      "codemirror_mode": {
        "name": "ipython",
        "version": 3
      },
      "file_extension": ".py",
      "mimetype": "text/x-python",
      "name": "python",
      "nbconvert_exporter": "python",
      "pygments_lexer": "ipython3",
      "version": "3.9.9"
    },
    "vscode": {
      "interpreter": {
        "hash": "365536dcbde60510dc9073d6b991cd35db2d9bac356a11f5b64279a5e6708b97"
      }
    },
    "colab": {
      "provenance": [],
      "include_colab_link": true
    },
    "gpuClass": "standard"
  },
  "nbformat": 4,
  "nbformat_minor": 5
}